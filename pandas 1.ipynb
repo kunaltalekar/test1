{
 "cells": [
  {
   "cell_type": "code",
   "execution_count": 1,
   "id": "ee7ec43d",
   "metadata": {},
   "outputs": [],
   "source": [
    "import pandas as pd"
   ]
  },
  {
   "cell_type": "code",
   "execution_count": 4,
   "id": "a7b9665c",
   "metadata": {},
   "outputs": [],
   "source": [
    "df = pd.read_excel('temp.xlsx')"
   ]
  },
  {
   "cell_type": "code",
   "execution_count": 5,
   "id": "e70da7e4",
   "metadata": {},
   "outputs": [
    {
     "data": {
      "text/html": [
       "<div>\n",
       "<style scoped>\n",
       "    .dataframe tbody tr th:only-of-type {\n",
       "        vertical-align: middle;\n",
       "    }\n",
       "\n",
       "    .dataframe tbody tr th {\n",
       "        vertical-align: top;\n",
       "    }\n",
       "\n",
       "    .dataframe thead th {\n",
       "        text-align: right;\n",
       "    }\n",
       "</style>\n",
       "<table border=\"1\" class=\"dataframe\">\n",
       "  <thead>\n",
       "    <tr style=\"text-align: right;\">\n",
       "      <th></th>\n",
       "      <th>name</th>\n",
       "      <th>age</th>\n",
       "      <th>sal</th>\n",
       "    </tr>\n",
       "  </thead>\n",
       "  <tbody>\n",
       "    <tr>\n",
       "      <th>0</th>\n",
       "      <td>xyh</td>\n",
       "      <td>56</td>\n",
       "      <td>15687</td>\n",
       "    </tr>\n",
       "    <tr>\n",
       "      <th>1</th>\n",
       "      <td>bfjd</td>\n",
       "      <td>53</td>\n",
       "      <td>36584</td>\n",
       "    </tr>\n",
       "    <tr>\n",
       "      <th>2</th>\n",
       "      <td>nkd</td>\n",
       "      <td>24</td>\n",
       "      <td>2535</td>\n",
       "    </tr>\n",
       "  </tbody>\n",
       "</table>\n",
       "</div>"
      ],
      "text/plain": [
       "   name  age    sal\n",
       "0   xyh   56  15687\n",
       "1  bfjd   53  36584\n",
       "2   nkd   24   2535"
      ]
     },
     "execution_count": 5,
     "metadata": {},
     "output_type": "execute_result"
    }
   ],
   "source": [
    "df"
   ]
  },
  {
   "cell_type": "code",
   "execution_count": 8,
   "id": "dbb37c9a",
   "metadata": {},
   "outputs": [],
   "source": [
    "df2 = pd.read_excel('temp.xlsx',sheet_name='product')"
   ]
  },
  {
   "cell_type": "code",
   "execution_count": 9,
   "id": "4f088c40",
   "metadata": {},
   "outputs": [
    {
     "data": {
      "text/html": [
       "<div>\n",
       "<style scoped>\n",
       "    .dataframe tbody tr th:only-of-type {\n",
       "        vertical-align: middle;\n",
       "    }\n",
       "\n",
       "    .dataframe tbody tr th {\n",
       "        vertical-align: top;\n",
       "    }\n",
       "\n",
       "    .dataframe thead th {\n",
       "        text-align: right;\n",
       "    }\n",
       "</style>\n",
       "<table border=\"1\" class=\"dataframe\">\n",
       "  <thead>\n",
       "    <tr style=\"text-align: right;\">\n",
       "      <th></th>\n",
       "      <th>product name</th>\n",
       "      <th>qty</th>\n",
       "    </tr>\n",
       "  </thead>\n",
       "  <tbody>\n",
       "    <tr>\n",
       "      <th>0</th>\n",
       "      <td>vdhs</td>\n",
       "      <td>41545</td>\n",
       "    </tr>\n",
       "    <tr>\n",
       "      <th>1</th>\n",
       "      <td>htsjr</td>\n",
       "      <td>156</td>\n",
       "    </tr>\n",
       "    <tr>\n",
       "      <th>2</th>\n",
       "      <td>rjy</td>\n",
       "      <td>6551</td>\n",
       "    </tr>\n",
       "    <tr>\n",
       "      <th>3</th>\n",
       "      <td>skudt</td>\n",
       "      <td>8561</td>\n",
       "    </tr>\n",
       "    <tr>\n",
       "      <th>4</th>\n",
       "      <td>jdbg</td>\n",
       "      <td>5616</td>\n",
       "    </tr>\n",
       "  </tbody>\n",
       "</table>\n",
       "</div>"
      ],
      "text/plain": [
       "  product name    qty\n",
       "0         vdhs  41545\n",
       "1        htsjr    156\n",
       "2          rjy   6551\n",
       "3        skudt   8561\n",
       "4         jdbg   5616"
      ]
     },
     "execution_count": 9,
     "metadata": {},
     "output_type": "execute_result"
    }
   ],
   "source": [
    "df2"
   ]
  },
  {
   "cell_type": "code",
   "execution_count": 10,
   "id": "b9e1ed64",
   "metadata": {},
   "outputs": [],
   "source": [
    "df2.to_html('temp.html')"
   ]
  },
  {
   "cell_type": "code",
   "execution_count": 13,
   "id": "591c5b7c",
   "metadata": {},
   "outputs": [
    {
     "data": {
      "text/plain": [
       "array([['vdhs', 41545],\n",
       "       ['htsjr', 156],\n",
       "       ['rjy', 6551],\n",
       "       ['skudt', 8561],\n",
       "       ['jdbg', 5616]], dtype=object)"
      ]
     },
     "execution_count": 13,
     "metadata": {},
     "output_type": "execute_result"
    }
   ],
   "source": [
    "df2.to_numpy()"
   ]
  },
  {
   "cell_type": "code",
   "execution_count": 14,
   "id": "5f6e1737",
   "metadata": {},
   "outputs": [],
   "source": [
    "df4=pd.read_html('https://en.wikipedia.org/wiki/COVID-19_pandemic_by_country_and_territory')"
   ]
  },
  {
   "cell_type": "code",
   "execution_count": 17,
   "id": "c2205a08",
   "metadata": {},
   "outputs": [
    {
     "data": {
      "text/html": [
       "<div>\n",
       "<style scoped>\n",
       "    .dataframe tbody tr th:only-of-type {\n",
       "        vertical-align: middle;\n",
       "    }\n",
       "\n",
       "    .dataframe tbody tr th {\n",
       "        vertical-align: top;\n",
       "    }\n",
       "\n",
       "    .dataframe thead th {\n",
       "        text-align: right;\n",
       "    }\n",
       "</style>\n",
       "<table border=\"1\" class=\"dataframe\">\n",
       "  <thead>\n",
       "    <tr style=\"text-align: right;\">\n",
       "      <th></th>\n",
       "      <th>Unnamed: 0</th>\n",
       "      <th>Country</th>\n",
       "      <th>Deaths / million</th>\n",
       "      <th>Deaths</th>\n",
       "      <th>Cases</th>\n",
       "    </tr>\n",
       "  </thead>\n",
       "  <tbody>\n",
       "    <tr>\n",
       "      <th>0</th>\n",
       "      <td>NaN</td>\n",
       "      <td>World[a]</td>\n",
       "      <td>832</td>\n",
       "      <td>6583938</td>\n",
       "      <td>628979556</td>\n",
       "    </tr>\n",
       "    <tr>\n",
       "      <th>1</th>\n",
       "      <td>NaN</td>\n",
       "      <td>Peru</td>\n",
       "      <td>6432</td>\n",
       "      <td>216884</td>\n",
       "      <td>4153605</td>\n",
       "    </tr>\n",
       "    <tr>\n",
       "      <th>2</th>\n",
       "      <td>NaN</td>\n",
       "      <td>Bulgaria</td>\n",
       "      <td>5497</td>\n",
       "      <td>37853</td>\n",
       "      <td>1276765</td>\n",
       "    </tr>\n",
       "    <tr>\n",
       "      <th>3</th>\n",
       "      <td>NaN</td>\n",
       "      <td>Bosnia and Herzegovina</td>\n",
       "      <td>4943</td>\n",
       "      <td>16169</td>\n",
       "      <td>399811</td>\n",
       "    </tr>\n",
       "    <tr>\n",
       "      <th>4</th>\n",
       "      <td>NaN</td>\n",
       "      <td>Hungary</td>\n",
       "      <td>4937</td>\n",
       "      <td>47938</td>\n",
       "      <td>2141513</td>\n",
       "    </tr>\n",
       "    <tr>\n",
       "      <th>...</th>\n",
       "      <td>...</td>\n",
       "      <td>...</td>\n",
       "      <td>...</td>\n",
       "      <td>...</td>\n",
       "      <td>...</td>\n",
       "    </tr>\n",
       "    <tr>\n",
       "      <th>216</th>\n",
       "      <td>NaN</td>\n",
       "      <td>Falkland Islands</td>\n",
       "      <td>—</td>\n",
       "      <td>—</td>\n",
       "      <td>1930</td>\n",
       "    </tr>\n",
       "    <tr>\n",
       "      <th>217</th>\n",
       "      <td>NaN</td>\n",
       "      <td>Vatican City</td>\n",
       "      <td>—</td>\n",
       "      <td>0</td>\n",
       "      <td>29</td>\n",
       "    </tr>\n",
       "    <tr>\n",
       "      <th>218</th>\n",
       "      <td>NaN</td>\n",
       "      <td>Saint Helena, Ascension and Tristan da Cunha</td>\n",
       "      <td>—</td>\n",
       "      <td>—</td>\n",
       "      <td>2032</td>\n",
       "    </tr>\n",
       "    <tr>\n",
       "      <th>219</th>\n",
       "      <td>NaN</td>\n",
       "      <td>Tuvalu</td>\n",
       "      <td>—</td>\n",
       "      <td>—</td>\n",
       "      <td>23</td>\n",
       "    </tr>\n",
       "    <tr>\n",
       "      <th>220</th>\n",
       "      <td>.mw-parser-output .reflist{font-size:90%;margi...</td>\n",
       "      <td>.mw-parser-output .reflist{font-size:90%;margi...</td>\n",
       "      <td>.mw-parser-output .reflist{font-size:90%;margi...</td>\n",
       "      <td>.mw-parser-output .reflist{font-size:90%;margi...</td>\n",
       "      <td>.mw-parser-output .reflist{font-size:90%;margi...</td>\n",
       "    </tr>\n",
       "  </tbody>\n",
       "</table>\n",
       "<p>221 rows × 5 columns</p>\n",
       "</div>"
      ],
      "text/plain": [
       "                                            Unnamed: 0  \\\n",
       "0                                                  NaN   \n",
       "1                                                  NaN   \n",
       "2                                                  NaN   \n",
       "3                                                  NaN   \n",
       "4                                                  NaN   \n",
       "..                                                 ...   \n",
       "216                                                NaN   \n",
       "217                                                NaN   \n",
       "218                                                NaN   \n",
       "219                                                NaN   \n",
       "220  .mw-parser-output .reflist{font-size:90%;margi...   \n",
       "\n",
       "                                               Country  \\\n",
       "0                                             World[a]   \n",
       "1                                                 Peru   \n",
       "2                                             Bulgaria   \n",
       "3                               Bosnia and Herzegovina   \n",
       "4                                              Hungary   \n",
       "..                                                 ...   \n",
       "216                                   Falkland Islands   \n",
       "217                                       Vatican City   \n",
       "218       Saint Helena, Ascension and Tristan da Cunha   \n",
       "219                                             Tuvalu   \n",
       "220  .mw-parser-output .reflist{font-size:90%;margi...   \n",
       "\n",
       "                                      Deaths / million  \\\n",
       "0                                                  832   \n",
       "1                                                 6432   \n",
       "2                                                 5497   \n",
       "3                                                 4943   \n",
       "4                                                 4937   \n",
       "..                                                 ...   \n",
       "216                                                  —   \n",
       "217                                                  —   \n",
       "218                                                  —   \n",
       "219                                                  —   \n",
       "220  .mw-parser-output .reflist{font-size:90%;margi...   \n",
       "\n",
       "                                                Deaths  \\\n",
       "0                                              6583938   \n",
       "1                                               216884   \n",
       "2                                                37853   \n",
       "3                                                16169   \n",
       "4                                                47938   \n",
       "..                                                 ...   \n",
       "216                                                  —   \n",
       "217                                                  0   \n",
       "218                                                  —   \n",
       "219                                                  —   \n",
       "220  .mw-parser-output .reflist{font-size:90%;margi...   \n",
       "\n",
       "                                                 Cases  \n",
       "0                                            628979556  \n",
       "1                                              4153605  \n",
       "2                                              1276765  \n",
       "3                                               399811  \n",
       "4                                              2141513  \n",
       "..                                                 ...  \n",
       "216                                               1930  \n",
       "217                                                 29  \n",
       "218                                               2032  \n",
       "219                                                 23  \n",
       "220  .mw-parser-output .reflist{font-size:90%;margi...  \n",
       "\n",
       "[221 rows x 5 columns]"
      ]
     },
     "execution_count": 17,
     "metadata": {},
     "output_type": "execute_result"
    }
   ],
   "source": [
    "df4[12]"
   ]
  },
  {
   "cell_type": "code",
   "execution_count": 20,
   "id": "5e291871",
   "metadata": {},
   "outputs": [],
   "source": [
    "py_dict = {\n",
    "    'name':['a','b','c'],\n",
    "    'age':[23,45,67],\n",
    "    'id':[56,55,55]\n",
    "}"
   ]
  },
  {
   "cell_type": "code",
   "execution_count": 21,
   "id": "1af9a205",
   "metadata": {},
   "outputs": [],
   "source": [
    "df5=pd.DataFrame(py_dict)"
   ]
  },
  {
   "cell_type": "code",
   "execution_count": 22,
   "id": "7af64838",
   "metadata": {},
   "outputs": [
    {
     "data": {
      "text/html": [
       "<div>\n",
       "<style scoped>\n",
       "    .dataframe tbody tr th:only-of-type {\n",
       "        vertical-align: middle;\n",
       "    }\n",
       "\n",
       "    .dataframe tbody tr th {\n",
       "        vertical-align: top;\n",
       "    }\n",
       "\n",
       "    .dataframe thead th {\n",
       "        text-align: right;\n",
       "    }\n",
       "</style>\n",
       "<table border=\"1\" class=\"dataframe\">\n",
       "  <thead>\n",
       "    <tr style=\"text-align: right;\">\n",
       "      <th></th>\n",
       "      <th>name</th>\n",
       "      <th>age</th>\n",
       "      <th>id</th>\n",
       "    </tr>\n",
       "  </thead>\n",
       "  <tbody>\n",
       "    <tr>\n",
       "      <th>0</th>\n",
       "      <td>a</td>\n",
       "      <td>23</td>\n",
       "      <td>56</td>\n",
       "    </tr>\n",
       "    <tr>\n",
       "      <th>1</th>\n",
       "      <td>b</td>\n",
       "      <td>45</td>\n",
       "      <td>55</td>\n",
       "    </tr>\n",
       "    <tr>\n",
       "      <th>2</th>\n",
       "      <td>c</td>\n",
       "      <td>67</td>\n",
       "      <td>55</td>\n",
       "    </tr>\n",
       "  </tbody>\n",
       "</table>\n",
       "</div>"
      ],
      "text/plain": [
       "  name  age  id\n",
       "0    a   23  56\n",
       "1    b   45  55\n",
       "2    c   67  55"
      ]
     },
     "execution_count": 22,
     "metadata": {},
     "output_type": "execute_result"
    }
   ],
   "source": [
    "df5"
   ]
  },
  {
   "cell_type": "code",
   "execution_count": 2,
   "id": "f63816ba",
   "metadata": {},
   "outputs": [
    {
     "ename": "NameError",
     "evalue": "name 'df4' is not defined",
     "output_type": "error",
     "traceback": [
      "\u001b[1;31m---------------------------------------------------------------------------\u001b[0m",
      "\u001b[1;31mNameError\u001b[0m                                 Traceback (most recent call last)",
      "Input \u001b[1;32mIn [2]\u001b[0m, in \u001b[0;36m<cell line: 1>\u001b[1;34m()\u001b[0m\n\u001b[1;32m----> 1\u001b[0m \u001b[43mdf4\u001b[49m[\u001b[38;5;241m12\u001b[39m]\n",
      "\u001b[1;31mNameError\u001b[0m: name 'df4' is not defined"
     ]
    }
   ],
   "source": []
  },
  {
   "cell_type": "code",
   "execution_count": null,
   "id": "d854f1cc",
   "metadata": {},
   "outputs": [],
   "source": []
  }
 ],
 "metadata": {
  "kernelspec": {
   "display_name": "Python 3 (ipykernel)",
   "language": "python",
   "name": "python3"
  },
  "language_info": {
   "codemirror_mode": {
    "name": "ipython",
    "version": 3
   },
   "file_extension": ".py",
   "mimetype": "text/x-python",
   "name": "python",
   "nbconvert_exporter": "python",
   "pygments_lexer": "ipython3",
   "version": "3.9.12"
  }
 },
 "nbformat": 4,
 "nbformat_minor": 5
}
